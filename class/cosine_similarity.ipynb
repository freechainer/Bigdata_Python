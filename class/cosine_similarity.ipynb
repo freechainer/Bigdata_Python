{
 "cells": [
  {
   "cell_type": "code",
   "execution_count": 177,
   "metadata": {},
   "outputs": [
    {
     "data": {
      "text/html": [
       "<div>\n",
       "<style scoped>\n",
       "    .dataframe tbody tr th:only-of-type {\n",
       "        vertical-align: middle;\n",
       "    }\n",
       "\n",
       "    .dataframe tbody tr th {\n",
       "        vertical-align: top;\n",
       "    }\n",
       "\n",
       "    .dataframe thead th {\n",
       "        text-align: right;\n",
       "    }\n",
       "</style>\n",
       "<table border=\"1\" class=\"dataframe\">\n",
       "  <thead>\n",
       "    <tr style=\"text-align: right;\">\n",
       "      <th></th>\n",
       "      <th>winter</th>\n",
       "      <th>superman</th>\n",
       "      <th>taxt</th>\n",
       "      <th>rambo</th>\n",
       "    </tr>\n",
       "    <tr>\n",
       "      <th>id</th>\n",
       "      <th></th>\n",
       "      <th></th>\n",
       "      <th></th>\n",
       "      <th></th>\n",
       "    </tr>\n",
       "  </thead>\n",
       "  <tbody>\n",
       "    <tr>\n",
       "      <th>hy</th>\n",
       "      <td>3.0</td>\n",
       "      <td>2</td>\n",
       "      <td>4</td>\n",
       "      <td>5</td>\n",
       "    </tr>\n",
       "    <tr>\n",
       "      <th>hih</th>\n",
       "      <td>2.5</td>\n",
       "      <td>3</td>\n",
       "      <td>4</td>\n",
       "      <td>4</td>\n",
       "    </tr>\n",
       "    <tr>\n",
       "      <th>nbe</th>\n",
       "      <td>3.5</td>\n",
       "      <td>2</td>\n",
       "      <td>3</td>\n",
       "      <td>4</td>\n",
       "    </tr>\n",
       "    <tr>\n",
       "      <th>ahs</th>\n",
       "      <td>4.0</td>\n",
       "      <td>2</td>\n",
       "      <td>2</td>\n",
       "      <td>4</td>\n",
       "    </tr>\n",
       "    <tr>\n",
       "      <th>yhd</th>\n",
       "      <td>3.0</td>\n",
       "      <td>4</td>\n",
       "      <td>4</td>\n",
       "      <td>5</td>\n",
       "    </tr>\n",
       "  </tbody>\n",
       "</table>\n",
       "</div>"
      ],
      "text/plain": [
       "     winter  superman  taxt  rambo\n",
       "id                                \n",
       "hy      3.0         2     4      5\n",
       "hih     2.5         3     4      4\n",
       "nbe     3.5         2     3      4\n",
       "ahs     4.0         2     2      4\n",
       "yhd     3.0         4     4      5"
      ]
     },
     "execution_count": 177,
     "metadata": {},
     "output_type": "execute_result"
    }
   ],
   "source": [
    "import pandas as pd\n",
    "from numpy import dot\n",
    "from numpy.linalg import norm\n",
    "import numpy as np\n",
    "\n",
    "data = pandas.read_csv('movie.csv', index_col=0)\n",
    "data"
   ]
  },
  {
   "cell_type": "code",
   "execution_count": 178,
   "metadata": {},
   "outputs": [
    {
     "data": {
      "text/plain": [
       "(5, 4)"
      ]
     },
     "execution_count": 178,
     "metadata": {},
     "output_type": "execute_result"
    }
   ],
   "source": [
    "data.shape"
   ]
  },
  {
   "cell_type": "code",
   "execution_count": 179,
   "metadata": {},
   "outputs": [
    {
     "data": {
      "text/plain": [
       "pandas.core.frame.DataFrame"
      ]
     },
     "execution_count": 179,
     "metadata": {},
     "output_type": "execute_result"
    }
   ],
   "source": [
    "type(data)"
   ]
  },
  {
   "cell_type": "code",
   "execution_count": 180,
   "metadata": {},
   "outputs": [],
   "source": [
    "def cos(A, B):\n",
    "    return dot(A, B)/(norm(A)*norm(B))                         # 코사인 유사도 수식"
   ]
  },
  {
   "cell_type": "code",
   "execution_count": 181,
   "metadata": {},
   "outputs": [],
   "source": [
    "hy=np.array([3.0,2,4,5])\n",
    "hih=np.array([2.5,3,4,4])\n",
    "nbe=np.array([3.5,2,3,4])\n",
    "ahs=np.array([4.0,2,2,4])\n",
    "yhd=np.array([3.0,4,4,5])"
   ]
  },
  {
   "cell_type": "code",
   "execution_count": 182,
   "metadata": {},
   "outputs": [
    {
     "name": "stdout",
     "output_type": "stream",
     "text": [
      "0.9799578870122228\n",
      "0.9852446755537786\n",
      "0.9467292624062573\n",
      "0.9715365547505717\n"
     ]
    }
   ],
   "source": [
    "#허용\n",
    "print(cos(hy, hih)) #허용과 허인행의 코사인 유사도\n",
    "print(cos(hy, nbe)) #허용과 남보은의 코사인 유사도\n",
    "print(cos(hy, ahs)) #허용과 안한성의 코사인 유사도\n",
    "print(cos(hy, yhd)) #허용과 양희동의 코사인 유사도"
   ]
  },
  {
   "cell_type": "code",
   "execution_count": 183,
   "metadata": {},
   "outputs": [
    {
     "name": "stdout",
     "output_type": "stream",
     "text": [
      "0.9799578870122228\n",
      "0.9683296637314884\n",
      "0.9200874124564722\n",
      "0.9938483222979689\n"
     ]
    }
   ],
   "source": [
    "#허인행\n",
    "print(cos(hih, hy)) #허인행과 허용의 코사인 유사도\n",
    "print(cos(hih, nbe)) #허인행과 남보은의 코사인 유사도\n",
    "print(cos(hih, ahs)) #허인행과 안한성의 코사인 유사도\n",
    "print(cos(hih, yhd)) #허인행과 양희동의 코사인 유사도"
   ]
  },
  {
   "cell_type": "code",
   "execution_count": 184,
   "metadata": {},
   "outputs": [
    {
     "name": "stdout",
     "output_type": "stream",
     "text": [
      "0.9852446755537786\n",
      "0.9683296637314884\n",
      "0.9847319278346618\n",
      "0.9678486172030493\n"
     ]
    }
   ],
   "source": [
    "#남보은\n",
    "print(cos(nbe, hy)) #남보은과 허용의 코사인 유사도\n",
    "print(cos(nbe, hih)) #남보은과 허인행의 코사인 유사도\n",
    "print(cos(nbe, ahs)) #남보은과 안한성의 코사인 유사도\n",
    "print(cos(nbe, yhd)) #남보은과 양희동의 코사인 유사도"
   ]
  },
  {
   "cell_type": "code",
   "execution_count": 185,
   "metadata": {},
   "outputs": [
    {
     "name": "stdout",
     "output_type": "stream",
     "text": [
      "0.9467292624062573\n",
      "0.9200874124564722\n",
      "0.9847319278346618\n",
      "0.9341987329938274\n"
     ]
    }
   ],
   "source": [
    "#안한성\n",
    "print(cos(ahs, hy)) #안한성과 허용의 코사인 유사도\n",
    "print(cos(ahs, hih)) #안한성과 허인행의 코사인 유사도\n",
    "print(cos(ahs, nbe)) #안한성과 남보은 코사인 유사도\n",
    "print(cos(ahs, yhd)) #안한성과 양희동의 코사인 유사도"
   ]
  },
  {
   "cell_type": "code",
   "execution_count": 186,
   "metadata": {},
   "outputs": [
    {
     "name": "stdout",
     "output_type": "stream",
     "text": [
      "0.9715365547505717\n",
      "0.9938483222979689\n",
      "0.9678486172030493\n",
      "0.9341987329938274\n"
     ]
    }
   ],
   "source": [
    "#양희동\n",
    "print(cos(yhd, hy)) #양희동과 허용의 코사인 유사도\n",
    "print(cos(yhd, hih)) #양희동과 허인행의 코사인 유사도\n",
    "print(cos(yhd, nbe)) #양희동과 남보은 코사인 유사도\n",
    "print(cos(yhd, ahs)) #양희동과 안한성의 코사인 유사도"
   ]
  }
 ],
 "metadata": {
  "kernelspec": {
   "display_name": "Python 3",
   "language": "python",
   "name": "python3"
  },
  "language_info": {
   "codemirror_mode": {
    "name": "ipython",
    "version": 3
   },
   "file_extension": ".py",
   "mimetype": "text/x-python",
   "name": "python",
   "nbconvert_exporter": "python",
   "pygments_lexer": "ipython3",
   "version": "3.7.6"
  }
 },
 "nbformat": 4,
 "nbformat_minor": 4
}
